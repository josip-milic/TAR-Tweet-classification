{
 "cells": [
  {
   "cell_type": "code",
   "execution_count": 1,
   "metadata": {
    "collapsed": true
   },
   "outputs": [],
   "source": [
    "# -*- coding: utf-8 -*-\n",
    "from subprocess import call, Popen\n",
    "import os\n",
    "import codecs"
   ]
  },
  {
   "cell_type": "code",
   "execution_count": 2,
   "metadata": {
    "collapsed": false
   },
   "outputs": [],
   "source": [
    "stopWords = [\".\",\":\",\";\",\"!\",\"?\",\"^\",\"-\",\"'\",\"a\",\"ako\",\"ali\",\"bi\",\"bih\",\"bila\",\"bili\",\"bilo\",\"bio\",\"bismo\",\"biste\",\"biti\",\"bumo\",\"da\",\"do\",\"duž\",\"ga\",\"hoće\",\"hoćemo\",\"hoćete\",\"hoćeš\",\"hoću\",\"i\",\"iako\",\"ih\",\"ili\",\"iz\",\"ja\",\"je\",\"jedna\",\"jedne\",\"jedno\",\"jer\",\"jesam\",\"jesi\",\"jesmo\",\"jest\",\"jeste\",\"jesu\",\"jim\",\"joj\",\"još\",\"ju\",\"kada\",\"kako\",\"kao\",\"koja\",\"koje\",\"koji\",\"kojima\",\"koju\",\"kroz\",\"li\",\"me\",\"mene\",\"meni\",\"mi\",\"mimo\",\"moj\",\"moja\",\"moje\",\"mu\",\"na\",\"nad\",\"nakon\",\"nam\",\"nama\",\"nas\",\"naš\",\"naša\",\"naše\",\"našeg\",\"ne\",\"nego\",\"neka\",\"neki\",\"nekog\",\"neku\",\"nema\",\"netko\",\"neće\",\"nećemo\",\"nećete\",\"nećeš\",\"neću\",\"nešto\",\"ni\",\"nije\",\"nikoga\",\"nikoje\",\"nikoju\",\"nisam\",\"nisi\",\"nismo\",\"niste\",\"nisu\",\"njega\",\"njegov\",\"njegova\",\"njegovo\",\"njemu\",\"njezin\",\"njezina\",\"njezino\",\"njih\",\"njihov\",\"njihova\",\"njihovo\",\"njim\",\"njima\",\"njoj\",\"nju\",\"no\",\"o\",\"od\",\"odmah\",\"on\",\"ona\",\"oni\",\"ono\",\"ova\",\"pa\",\"pak\",\"po\",\"pod\",\"pored\",\"prije\",\"s\",\"sa\",\"sam\",\"samo\",\"se\",\"sebe\",\"sebi\",\"si\",\"smo\",\"ste\",\"su\",\"sve\",\"svi\",\"svog\",\"svoj\",\"svoja\",\"svoje\",\"svom\",\"ta\",\"tada\",\"taj\",\"tako\",\"te\",\"tebe\",\"tebi\",\"ti\",\"to\",\"toj\",\"tome\",\"tu\",\"tvoj\",\"tvoja\",\"tvoje\",\"u\",\"uz\",\"vam\",\"vama\",\"vas\",\"vaš\",\"vaša\",\"vaše\",\"već\",\"vi\",\"vrlo\",\"za\",\"zar\",\"će\",\"ćemo\",\"ćete\",\"ćeš\",\"ću\",\"što\"]"
   ]
  },
  {
   "cell_type": "code",
   "execution_count": 28,
   "metadata": {
    "collapsed": true
   },
   "outputs": [],
   "source": [
    "import re, string\n",
    "def purged(str):\n",
    "    purged =re.sub(r'(?i)\\b((?:https?://|www\\d{0,3}[.]|[a-z0-9.\\-]+[.][a-z]{2,4}/)(?:[^\\s()<>]+|\\(([^\\s()<>]+|(\\([^\\s()<>]+\\)))*\\))+(?:\\(([^\\s()<>]+|(\\([^\\s()<>]+\\)))*\\)|[^\\s`!()\\[\\]{};:\\'\".,<>?«»“”‘’]))', '', str).strip()\n",
    "    purged_spl = purged.split(' ')\n",
    "    if (purged) and (purged_spl[-1][0] in '^'):\n",
    "        purged = ' '.join(purged_spl[:-1]).strip()\n",
    "    for forbidden in '!&.?-–^,;:\"\\'/[]{}()<>':\n",
    "        print forbidden\n",
    "        while forbidden in purged:\n",
    "            purged = purged.replace(forbidden,'')\n",
    "    \n",
    "    purged = purged.strip()\n",
    "    return purged\n",
    "\n",
    "#returns the tweet\n",
    "def get_tweet( annotation_test ):\n",
    "    dataset_dir_path = '../datasets'\n",
    "    dataset_test,tweet_id_test,tweet_category_test = annotation_test.split(';')\n",
    "    tweet_category_test = int(tweet_category_test)\n",
    "    dataset_file_test = open(dataset_dir_path + '\\\\' + dataset_test + '_tweets.txt','r')\n",
    "    for line in dataset_file_test:\n",
    "        if tweet_id_test == line.split('|',2)[0]:\n",
    "            pur = purged(line.rstrip().split('|',2)[2])\n",
    "\n",
    "            if pur == '':\n",
    "                if (tweet_id_test == '484947530703450112'):\n",
    "                    print [pur]\n",
    "                return 'poveznica'\n",
    "            return pur\n",
    "    dataset_file_test.close()"
   ]
  },
  {
   "cell_type": "code",
   "execution_count": 29,
   "metadata": {
    "collapsed": false,
    "scrolled": true
   },
   "outputs": [
    {
     "name": "stdout",
     "output_type": "stream",
     "text": [
      "Processing dataset posaohr...\n",
      "['']\n",
      "Processing finished!\n"
     ]
    }
   ],
   "source": [
    "import string\n",
    "def important ( str ):\n",
    "    response = True\n",
    "    for word in stopWords:\n",
    "        if ( word == str ):\n",
    "            response = False;    \n",
    "    return response\n",
    "\n",
    "dataset_names = ['posaohr']\n",
    "classes = {}\n",
    "for dataset_name in dataset_names:\n",
    "    target_name = \"purged_%s_tweets.txt\" % dataset_name\n",
    "    print 'Processing dataset %s...' % dataset_name\n",
    "    target = open(target_name, 'w')\n",
    "    classes[dataset_name] = []\n",
    "    annotations_file = open('../annotations/annotations_%s_tweets.csv' % dataset_name,'r')\n",
    "    for line in annotations_file:\n",
    "        target.write(get_tweet(line) + '\\n')\n",
    "        classes[dataset_name].append(line.rstrip().split(';')[1:])\n",
    "    target.close()\n",
    "    command = ['\"NLPToolkit.exe\"','-pre', '-pos', '-lm', '\"'+target_name+'\"', '\"'+target_name.replace('purged','pre_purged')+'\"']\n",
    "    #print ' '.join(command)\n",
    "    call(' '.join(command),shell=True)\n",
    "    \n",
    "    target = open('processed_%s_tweets.txt' % dataset_name, 'w')\n",
    "    f = open('pre_purged_%s_tweets.txt' % dataset_name,'r')\n",
    "    counter = 0;\n",
    "    for line in f:\n",
    "        if ( line != \"\\n\"):\n",
    "            word = line.split('\\t')[2].strip().lower()\n",
    "            if important(word):\n",
    "                target.write(word+' ')\n",
    "        else:\n",
    "            target.write('<|>'+classes[dataset_name][counter][0]+'<|>'+classes[dataset_name][counter][1]+'\\n')\n",
    "            counter = counter + 1\n",
    "    f.close()\n",
    "    target.close()\n",
    "print 'Processing finished!'"
   ]
  },
  {
   "cell_type": "code",
   "execution_count": 11,
   "metadata": {
    "collapsed": false
   },
   "outputs": [],
   "source": [
    "\n",
    "for dataset_name in dataset_names:\n"
   ]
  }
 ],
 "metadata": {
  "kernelspec": {
   "display_name": "Python 2",
   "language": "python",
   "name": "python2"
  },
  "language_info": {
   "codemirror_mode": {
    "name": "ipython",
    "version": 2
   },
   "file_extension": ".py",
   "mimetype": "text/x-python",
   "name": "python",
   "nbconvert_exporter": "python",
   "pygments_lexer": "ipython2",
   "version": "2.7.10"
  }
 },
 "nbformat": 4,
 "nbformat_minor": 0
}
