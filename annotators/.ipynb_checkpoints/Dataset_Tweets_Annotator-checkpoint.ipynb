{
 "cells": [
  {
   "cell_type": "markdown",
   "metadata": {},
   "source": [
    "University of Zagreb<br>\n",
    "Faculty of Electrical Engineering and Computing\n",
    "\n",
    "# Text Analysis and Retrieval (TAR)\n",
    "\n",
    "<a href=\"http://www.fer.unizg.hr/predmet/apt\">http://www.fer.unizg.hr/predmet/apt</a>\n",
    "\n",
    "2015./2016.\n",
    "\n",
    "# Project theme 13: Tweet classification\n",
    "\n",
    "\n",
    "(c) 2016 Group nedovrs: Tomislav Marinković, Josip Milić, Domagoj Pereglin\n",
    "\n",
    "*Version 0.95*\n",
    "\n",
    "Date: **05.06.2016.**<br>"
   ]
  },
  {
   "cell_type": "markdown",
   "metadata": {},
   "source": [
    "<h1>Tweets dataset annotator</h1>"
   ]
  },
  {
   "cell_type": "markdown",
   "metadata": {},
   "source": [
    "<h3>Packages:</h3>"
   ]
  },
  {
   "cell_type": "code",
   "execution_count": 4,
   "metadata": {
    "collapsed": true
   },
   "outputs": [],
   "source": [
    "import re # za regularni izraz ()\n",
    "from IPython.display import clear_output\n",
    "import os\n",
    "import codecs #UTF-8, ne znam treba li "
   ]
  },
  {
   "cell_type": "markdown",
   "metadata": {},
   "source": [
    "<h3>Tweet classes (categories):</h3>"
   ]
  },
  {
   "cell_type": "code",
   "execution_count": 12,
   "metadata": {
    "collapsed": false
   },
   "outputs": [],
   "source": [
    "tweet_categories = {}\n",
    "tweet_categories[2] = 'DEALS'\n",
    "tweet_categories[3] = 'NEWS_TECHNOLOGY'\n",
    "tweet_categories[4] = 'NEWS_POLITICS'\n",
    "tweet_categories[5] = 'NEWS_SPORT'\n",
    "tweet_categories[6] = 'NEWS_REST'\n",
    "tweet_categories[7] = 'REST'"
   ]
  },
  {
   "cell_type": "markdown",
   "metadata": {},
   "source": [
    "<h3>Wanted tweets dataset:</h3>"
   ]
  },
  {
   "cell_type": "code",
   "execution_count": 6,
   "metadata": {
    "collapsed": false
   },
   "outputs": [],
   "source": [
    "dataset_dir_path = r'..\\datasets'\n",
    "dataset_file_name = 'bugonline_tweets.txt'\n",
    "dataset_path = dataset_dir_path +'\\\\'+ dataset_file_name\n",
    "dataset_file = codecs.open(dataset_path, 'r', 'utf-8')\n",
    "dataset = []\n",
    "for line in dataset_file:\n",
    "    dataset.append(line.split('|', 2))\n",
    "dataset_file.close()\n"
   ]
  },
  {
   "cell_type": "markdown",
   "metadata": {},
   "source": [
    "<h3>Annotation file creation:</h3>"
   ]
  },
  {
   "cell_type": "code",
   "execution_count": 7,
   "metadata": {
    "collapsed": false
   },
   "outputs": [],
   "source": [
    "def print_categories():\n",
    "    for i in sorted(tweet_categories):\n",
    "        print i,'-',tweet_categories[i]\n",
    "    print ''\n",
    "\n",
    "annotated_tweets_file_path = r'..\\annotations\\annotations_' + dataset_file_name.replace('.txt','.csv')\n",
    "def create_open_annotated_file():\n",
    "    try :\n",
    "        annotated_tweets_file =  open(annotated_tweets_file_path,'r')\n",
    "    except:\n",
    "        annotated_tweets_file = open(annotated_tweets_file_path,'w+')\n",
    "    annotated_tweets = [x.split(';')[1] for x in annotated_tweets_file]\n",
    "    annotated_tweets_file.close()\n",
    "    print 'Broj prethodnih anotacija: %d\\n' % len(annotated_tweets)\n",
    "    return annotated_tweets"
   ]
  },
  {
   "cell_type": "markdown",
   "metadata": {},
   "source": [
    "<h3>Tweet dataset annotation:</h3>"
   ]
  },
  {
   "cell_type": "code",
   "execution_count": 13,
   "metadata": {
    "collapsed": false
   },
   "outputs": [
    {
     "name": "stdout",
     "output_type": "stream",
     "text": [
      "2 - DEALS\n",
      "3 - NEWS_TECHNOLOGY\n",
      "4 - NEWS_POLITICS\n",
      "5 - NEWS_SPORT\n",
      "6 - NEWS_REST\n",
      "7 - REST\n",
      "\n",
      "Broj prethodnih anotacija: 2751\n",
      "\n",
      "@bugonline 692301884342833153\n",
      "The Political Machine 2016 stiže 4. veljače: http://is.gd/NxnRAB\n",
      "Kategorija? df\n",
      "Ukupno novih anotacija: 0\n"
     ]
    }
   ],
   "source": [
    "print_categories()\n",
    "annotated_tweets = create_open_annotated_file()\n",
    "default_category = 4 # ako se kao input pritisne enter, stavit će defaultnu kategoriju, procijenite koja bi to bila\n",
    "tweet_user = dataset_file_name.replace('_tweets.txt','')\n",
    "fresh_annotations = []\n",
    "clear_switch = False\n",
    "for tweet in dataset:\n",
    "    tweet_id = tweet[0]\n",
    "    if tweet_id in annotated_tweets:\n",
    "        continue\n",
    "    tweet_text = tweet[2].rstrip()\n",
    "    print '@'+tweet_user, tweet_id\n",
    "    print tweet_text\n",
    "    tweet_category_str = raw_input('Kategorija? ')\n",
    "    try:\n",
    "        tweet_category = int(tweet_category_str)\n",
    "        if tweet_category not in tweet_categories:\n",
    "            break # ako je input broj koji nije među kategorijama onda prekida anotiranje\n",
    "        fresh_annotations.append((tweet_id,tweet_category))\n",
    "    except:\n",
    "        if tweet_category_str == '':\n",
    "            tweet_category = default_category\n",
    "            fresh_annotations.append((tweet_id,tweet_category))\n",
    "            print tweet_category\n",
    "        else:\n",
    "            break # ako je input nešto što nije broj onda prekida anotiranje\n",
    "    if (clear_switch):\n",
    "        clear_output()\n",
    "        print_categories()\n",
    "        print '@'+tweet_user, tweet_id\n",
    "        print tweet_text.rstrip()\n",
    "        print 'Kategorija? %d' % tweet_category\n",
    "        clear_switch = False\n",
    "    else:\n",
    "        clear_switch = True\n",
    "    print '\\n\\n'\n",
    "print 'Ukupno novih anotacija: %d' % len(fresh_annotations)\n",
    "annotated_tweets_file =  open(annotated_tweets_file_path,'a+')\n",
    "for (tweet_id,tweet_category) in fresh_annotations:\n",
    "    annotated_tweets_file.write('%s;%s;%d\\n' % (tweet_user,tweet_id,tweet_category))\n",
    "annotated_tweets_file.close()"
   ]
  },
  {
   "cell_type": "markdown",
   "metadata": {},
   "source": [
    "<h3>Number of annotations (all datasets)</h3>"
   ]
  },
  {
   "cell_type": "code",
   "execution_count": 14,
   "metadata": {
    "collapsed": false
   },
   "outputs": [
    {
     "name": "stdout",
     "output_type": "stream",
     "text": [
      "2 - DEALS = 976 anotacija\n",
      "3 - NEWS_TECHNOLOGY = 1043 anotacija\n",
      "4 - NEWS_POLITICS = 1657 anotacija\n",
      "5 - NEWS_SPORT = 1052 anotacija\n",
      "6 - NEWS_REST = 2738 anotacija\n",
      "7 - REST = 3257 anotacija\n",
      "\n",
      "Sum od annotations: 10723\n"
     ]
    }
   ],
   "source": [
    "tweet_categories_annotated = dict(zip(tweet_categories.keys(),[0]*len(tweet_categories)))\n",
    "\n",
    "annotations_dir = r'..\\annotations'\n",
    "for annotations_name in os.listdir(annotations_dir):\n",
    "    if '.csv' in annotations_name:\n",
    "        annotated_tweets_file = open(annotations_dir + '\\\\'  + annotations_name ,'r')\n",
    "        for line in annotated_tweets_file:\n",
    "            tweet_category = int(line.split(';')[-1])\n",
    "            tweet_categories_annotated[tweet_category] += 1\n",
    "for tweet_category in sorted(tweet_categories_annotated):\n",
    "    print '%d - %s = %d anotacija' % (tweet_category, tweet_categories[tweet_category], tweet_categories_annotated[tweet_category])\n",
    "print '\\nSum od annotations: %d' % (sum(tweet_categories_annotated.values()))\n",
    "        "
   ]
  },
  {
   "cell_type": "markdown",
   "metadata": {},
   "source": [
    "<h3>Annotated tweet text retrieval:</h3>"
   ]
  },
  {
   "cell_type": "code",
   "execution_count": 15,
   "metadata": {
    "collapsed": false
   },
   "outputs": [
    {
     "name": "stdout",
     "output_type": "stream",
     "text": [
      "@bugonline\n",
      "GeForce 1080 i 1070 samo u jednoj verziji: http://is.gd/ldL8lT ^tj\n",
      "\n",
      "Category: NEWS_TECHNOLOGY\n",
      "Tweet link: https://twitter.com/anyuser/status/729438412105760769\n"
     ]
    }
   ],
   "source": [
    "annotation_test = 'bugonline;729438412105760769;3'\n",
    "\n",
    "dataset_test,tweet_id_test,tweet_category_test = annotation_test.split(';')\n",
    "tweet_category_test = int(tweet_category_test)\n",
    "dataset_file_test = open(dataset_dir_path + '\\\\' + dataset_test + '_tweets.txt','r')\n",
    "for line in dataset_file_test:\n",
    "    if tweet_id_test == line.split('|',2)[0]:\n",
    "        print '@' + dataset_test\n",
    "        print line.split('|',2)[2]\n",
    "        print 'Category: %s' % tweet_categories[tweet_category_test]\n",
    "        print 'Tweet link: https://twitter.com/anyuser/status/%s' % tweet_id_test\n",
    "        break\n",
    "dataset_file_test.close()"
   ]
  }
 ],
 "metadata": {
  "kernelspec": {
   "display_name": "Python 2",
   "language": "python",
   "name": "python2"
  },
  "language_info": {
   "codemirror_mode": {
    "name": "ipython",
    "version": 2
   },
   "file_extension": ".py",
   "mimetype": "text/x-python",
   "name": "python",
   "nbconvert_exporter": "python",
   "pygments_lexer": "ipython2",
   "version": "2.7.10"
  }
 },
 "nbformat": 4,
 "nbformat_minor": 0
}
