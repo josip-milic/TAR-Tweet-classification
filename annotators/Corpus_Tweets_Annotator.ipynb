{
 "cells": [
  {
   "cell_type": "markdown",
   "metadata": {},
   "source": [
    "<h2>Biblioteke</h2>"
   ]
  },
  {
   "cell_type": "code",
   "execution_count": 2,
   "metadata": {
    "collapsed": true
   },
   "outputs": [],
   "source": [
    "import re # za regularni izraz ()\n",
    "from IPython.display import clear_output\n",
    "import codecs #UTF-8, ne znam treba li "
   ]
  },
  {
   "cell_type": "code",
   "execution_count": 3,
   "metadata": {
    "collapsed": false
   },
   "outputs": [
    {
     "name": "stdout",
     "output_type": "stream",
     "text": [
      "Broj anotacija: 64\n"
     ]
    }
   ],
   "source": [
    "try :\n",
    "    anotated_tweets_file = open('corpus_anotated_tweets.txt','r')\n",
    "except:\n",
    "    anotated_tweets_file = open('corpus_anotated_tweets.txt','w+')\n",
    "anotated_tweets = [x.split(' - ')[1] for x in anotated_tweets_file]\n",
    "anotated_tweets_file.close()\n",
    "\n",
    "print 'Broj anotacija: %d' % len(anotated_tweets)"
   ]
  },
  {
   "cell_type": "markdown",
   "metadata": {},
   "source": [
    "<h2>Od koje linije se čita korpus:</h2>"
   ]
  },
  {
   "cell_type": "code",
   "execution_count": 5,
   "metadata": {
    "collapsed": true
   },
   "outputs": [],
   "source": [
    "start_line_index = 1000"
   ]
  },
  {
   "cell_type": "code",
   "execution_count": 7,
   "metadata": {
    "collapsed": false
   },
   "outputs": [
    {
     "name": "stdout",
     "output_type": "stream",
     "text": [
      "------------------------\n",
      "Linija u korpusu: 1004\n",
      "ID: 384128743330938880\n",
      "\n",
      "Da deca iz Afrike dobiju teretanu i dovedu u red stomacice, ukucajte obama.crn na 187\n",
      "------------------------\n",
      "Category? #100\n",
      "------------------------\n",
      "Linija u korpusu: 1104\n",
      "ID: 384128743330938880\n",
      "\n",
      "@necha64 sad ce da me se cak i plase\n",
      "------------------------\n",
      "Category? 4\n",
      "\n",
      "------------------------\n",
      "Linija u korpusu: 1108\n",
      "ID: 385345334333153280\n",
      "\n",
      "Ti seksi maco, u helenkama, a s gradjom prosecne pakle cigareta, ne od me ra vaj me!\n",
      "------------------------\n",
      "Category? \n",
      "Ukupno novih anotacija: 1\n"
     ]
    }
   ],
   "source": [
    "#### corpus = open('hrsrTweets.txt', 'r')\n",
    "corpus = codecs.open( \"hrsrTweets.txt\", \"r\", \"utf-8\" )\n",
    "fresh_annotations = []\n",
    "quoted = re.compile('\"[^\"]*\"')\n",
    "text_phase = False #reading phase of tweet text lines\n",
    "tweets_properly_started = False #if the chosen line is in the middle of a tweet\n",
    "j = 0\n",
    "i = 0\n",
    "lines = []\n",
    "for line in corpus:\n",
    "    j += 1\n",
    "    if i >= start_line_index:\n",
    "        if not tweets_properly_started and '<tweet' not in line:\n",
    "            continue            \n",
    "        if '<tweet' in line:\n",
    "            tweets_properly_started = True\n",
    "            tweet_id = quoted.findall(line)[0][1:-1]  \n",
    "            if tweet_id in anotated_tweets:\n",
    "                continue\n",
    "        elif '<text>' in line:\n",
    "            if tweet_id in anotated_tweets:\n",
    "                continue\n",
    "            lines = [line]\n",
    "            if '</text>' not in line:\n",
    "                text_phase = True\n",
    "        elif text_phase:\n",
    "            if tweet_id in anotated_tweets:\n",
    "                continue\n",
    "            lines.append(line)\n",
    "            if '</text>' in line:\n",
    "                text_phase = False\n",
    "        if len(lines) and not text_phase:\n",
    "            if tweet_id in anotated_tweets:\n",
    "                continue\n",
    "            tweet_text = ''.join(lines)[6:-8]\n",
    "            lines = []\n",
    "            print '------------------------'\n",
    "            print 'Linija u korpusu: %d' % j\n",
    "            print 'ID: %s\\n' % tweet_id\n",
    "            print tweet_text\n",
    "            print '------------------------'\n",
    "            try:\n",
    "                category = raw_input('Category? ')\n",
    "                if '#' in category:\n",
    "                    start_line_index += int(category[1:])\n",
    "                    continue\n",
    "                category = int(category)\n",
    "                print \"\"\n",
    "                if category < 0: break\n",
    "                fresh_annotations.append((j,tweet_id,category))\n",
    "            except:\n",
    "                break\n",
    "    i += 1\n",
    "anotated_tweets_file = open('corpus_anotated_tweets.txt','a+')\n",
    "for (j, tweet_id, tweet_category) in fresh_annotations:\n",
    "    anotated_tweets_file.write('%d - %s - %d\\n' % (j, tweet_id,tweet_category))\n",
    "    anotated_tweets.append(tweet_id)\n",
    "anotated_tweets_file.close()\n",
	"corpus.close()\n",
    "    \n",
    "    \n",
    "print 'Ukupno novih anotacija: %d' % len(fresh_annotations)"
   ]
  }
 ],
 "metadata": {
  "kernelspec": {
   "display_name": "Python 2",
   "language": "python",
   "name": "python2"
  },
  "language_info": {
   "codemirror_mode": {
    "name": "ipython",
    "version": 2
   },
   "file_extension": ".py",
   "mimetype": "text/x-python",
   "name": "python",
   "nbconvert_exporter": "python",
   "pygments_lexer": "ipython2",
   "version": "2.7.10"
  }
 },
 "nbformat": 4,
 "nbformat_minor": 0
}
